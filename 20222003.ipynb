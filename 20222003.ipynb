# import necessary libraries
from scipy.io import wavfile
import os
from scipy.fft import rfft, rfftfreq
import matplotlib.pyplot as plt
import numpy as np

# Soal Nomor 3
# define filename
fname = 'note_08_20222003.wav'

# get file existence
file_exist = os.path.exists(fname)

# read file
if file_exist:
    sample_rate, data = wavfile.read(fname)
    print("sample rate = ", sample_rate, "Hz")
    print(data)
    
Nsample = len(data)
print("ukuran berkas =", Nsample)
durasi = Nsample/sample_rate
print("durasi audio =", durasi, "s")

yf = rfft(data)
xf = rfftfreq(Nsample, 1/ sample_rate)

# plot signal in freqency domain
plt.figure(figsize=(10, 4))
plt.grid()
plt.xlabel('f')
plt.ylabel('y')
plt.plot(xf[:9200], np.abs(yf[:9200]), 'r-')
plt.show()
import matplotlib.pyplot as plt
import numpy as np

# Soal Nomor 4
ifname = '20222003.png'
im_in = plt.imread(ifname).astype(float)
height = len(im_in)
width = len(im_in[0])
print("width =", width)
print("height =", height)
plt.set_cmap("gray")
plt.subplot(121)
plt.imshow(im_in)

# Calculate Fourier transform of grating
ft = np.fft.ifftshift(im_in)
ft = np.fft.fft2(ft)
ft = np.fft.fftshift(ft)
plt.subplot(122)
plt.imshow(abs(ft))
plt.show()